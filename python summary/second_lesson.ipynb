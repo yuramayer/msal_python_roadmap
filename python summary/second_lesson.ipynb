{
 "cells": [
  {
   "cell_type": "markdown",
   "metadata": {
    "id": "eYddPSDb_U4t"
   },
   "source": [
    "# Объекты и их типы\n",
    "\n",
    "\n",
    "#### 1. `Python` - **объектно**-ориентированный язык программирования, код состоит из элементов - объектов разного типа\n",
    "\n",
    "#### 2. Объекты нашего кода можно представить как кубики лего: \n",
    "\n",
    "- объекты различаются как между собой по формам деталей:\n",
    "    - *в нашем коде - **тип** переменной*, \n",
    "    \n",
    "- так и цветом в рамках одной детали:\n",
    "    - *у нас - **значение** переменной*.\n",
    "\n",
    "#### 3. Мы упомянули разные **типы переменных**:\n",
    "\n",
    "- целые числа `int`\n",
    "\n",
    "- дробные числа `float`\n",
    "\n",
    "- строки `str`\n",
    "\n",
    "- логические утверждения `bool`\n",
    "\n",
    "- изменяемые последовательности - списки `list`\n",
    "\n",
    "#### 4. Мы подразделяем код на **функции**, которые выполняют свои небольшие задачи:\n",
    "\n",
    "- функция создаётся с помощью кодового слова `def` и имени функции\n",
    "\n",
    "- после имени функции передаются аргументы в скобках и двоеточие - `def функция(аргумент1, аргумент2, ...):`\n",
    "\n",
    "- функция отделена от пространства кода **четыремя пробелами** - или одним нажатием кнопки `Tab`\n",
    "\n",
    "- функция возвращает объект с помощью кодового слова `return`"
   ]
  },
  {
   "cell_type": "code",
   "execution_count": 1,
   "metadata": {
    "id": "xvDNuA-rB7_a"
   },
   "outputs": [],
   "source": [
    "# Пример функции, возвращающей число + 1:\n",
    "\n",
    "def my_function(number):\n",
    "    return number + 1"
   ]
  },
  {
   "cell_type": "code",
   "execution_count": 2,
   "metadata": {
    "colab": {
     "base_uri": "https://localhost:8080/"
    },
    "id": "6ssvfDVtB-V6",
    "outputId": "5e94445f-f302-4bd7-b9b1-69adad94b7ba"
   },
   "outputs": [
    {
     "data": {
      "text/plain": [
       "21"
      ]
     },
     "execution_count": 2,
     "metadata": {},
     "output_type": "execute_result"
    }
   ],
   "source": [
    "my_function(20) "
   ]
  },
  {
   "cell_type": "markdown",
   "metadata": {
    "id": "jYGvygY8CB6j"
   },
   "source": [
    "#### 5. Мы можем создавать типы объектов сами - и пользоваться уже созданными кем-то объектами.\n",
    "\n",
    "- например, мы можем установить библиотеку с помощью консольной команды `pip install ...`\n",
    "\n",
    "- мы вызываем установленную библиотеку в наш код: `import ...` \n",
    "\n",
    "- **читая документацию**, мы узнаём, как использовать внешние объекты в нашем - таким внешним объектом является знакомый нам `telebot.TeleBot`"
   ]
  },
  {
   "cell_type": "markdown",
   "metadata": {
    "id": "mCSpEanJ_3GM"
   },
   "source": [
    "# Имена переменных в `Python`"
   ]
  },
  {
   "cell_type": "markdown",
   "metadata": {
    "id": "w9YtbCm6Ro92"
   },
   "source": [
    "## Четыре ключевых правила имён переменных:\n",
    "\n",
    "#### 1. Имя должно содержать латинские буквы, числа и и символ `_` нижнего подчёркивания\n",
    "\n",
    "\n",
    "#### 2. В имени не должно быть пробелов\n",
    "\n",
    "\n",
    "#### 3. Имя переменной __не может__ начинаться с цифры\n",
    "\n",
    "\n",
    "#### 4. Заглавные и строчные буквы различны\n",
    "\n",
    "\n",
    "\n",
    "### Рассмотрим переменные на примере:"
   ]
  },
  {
   "cell_type": "markdown",
   "metadata": {
    "id": "jlR5COQ-SVu1"
   },
   "source": [
    "Переменная `user_name` содержит имя пользователя"
   ]
  },
  {
   "cell_type": "code",
   "execution_count": 3,
   "metadata": {
    "id": "iT7a2zU5_7sR"
   },
   "outputs": [],
   "source": [
    "user_name = 'yura'"
   ]
  },
  {
   "cell_type": "markdown",
   "metadata": {
    "id": "h6yOjmJQScW1"
   },
   "source": [
    "> Встроенная функция `print()` позволяет вывести значение объекта "
   ]
  },
  {
   "cell_type": "code",
   "execution_count": null,
   "metadata": {
    "colab": {
     "base_uri": "https://localhost:8080/"
    },
    "id": "5YduKfN3ApUK",
    "outputId": "27024fba-610b-40c9-8a43-2aa703f6f69b"
   },
   "outputs": [
    {
     "name": "stdout",
     "output_type": "stream",
     "text": [
      "yura\n"
     ]
    }
   ],
   "source": [
    "print(user_name)"
   ]
  },
  {
   "cell_type": "markdown",
   "metadata": {
    "id": "jOu4myHoStTB"
   },
   "source": [
    "Переменная `user_surname` содержит фамилию пользователя"
   ]
  },
  {
   "cell_type": "code",
   "execution_count": null,
   "metadata": {
    "id": "7Fc0YP9yAtHJ"
   },
   "outputs": [],
   "source": [
    "user_surname = \"mayer\""
   ]
  },
  {
   "cell_type": "code",
   "execution_count": null,
   "metadata": {
    "colab": {
     "base_uri": "https://localhost:8080/"
    },
    "id": "mA6likzoA1C6",
    "outputId": "58b81f17-5645-488b-e5ae-033d0108d3a1"
   },
   "outputs": [
    {
     "name": "stdout",
     "output_type": "stream",
     "text": [
      "mayer\n"
     ]
    }
   ],
   "source": [
    "print(user_surname)"
   ]
  },
  {
   "cell_type": "markdown",
   "metadata": {
    "id": "3y7EOJLQTB3t"
   },
   "source": [
    "Переменная __не может__ начинаться с цифры:"
   ]
  },
  {
   "cell_type": "code",
   "execution_count": null,
   "metadata": {
    "colab": {
     "base_uri": "https://localhost:8080/",
     "height": 130
    },
    "id": "ZD4iBHZQB46L",
    "outputId": "92352c30-7067-4a8a-be5b-f45c44fb291b"
   },
   "outputs": [
    {
     "ename": "SyntaxError",
     "evalue": "ignored",
     "output_type": "error",
     "traceback": [
      "\u001b[0;36m  File \u001b[0;32m\"<ipython-input-6-ac66a8fa3c45>\"\u001b[0;36m, line \u001b[0;32m1\u001b[0m\n\u001b[0;31m    3girl_name = 'Nastya'\u001b[0m\n\u001b[0m             ^\u001b[0m\n\u001b[0;31mSyntaxError\u001b[0m\u001b[0;31m:\u001b[0m invalid syntax\n"
     ]
    }
   ],
   "source": [
    "3girl_name = 'Nastya'"
   ]
  },
  {
   "cell_type": "markdown",
   "metadata": {
    "id": "R3k99beITKQ1"
   },
   "source": [
    "Но переменная может содержать цифру: "
   ]
  },
  {
   "cell_type": "code",
   "execution_count": null,
   "metadata": {
    "id": "C_TXXDhTTVrc"
   },
   "outputs": [],
   "source": [
    "girl3_name = 'Masha'"
   ]
  },
  {
   "cell_type": "markdown",
   "metadata": {
    "id": "ejGp9NtETdva"
   },
   "source": [
    "Переменная должна быть достаточно краткой.\n",
    "\n",
    "Пример __плохой__ переменной:"
   ]
  },
  {
   "cell_type": "code",
   "execution_count": null,
   "metadata": {
    "id": "vz1smKQpcNfl"
   },
   "outputs": [],
   "source": [
    "telegram_university_bot_administrator_headmaster = 'Эльвин Сахаватович'"
   ]
  },
  {
   "cell_type": "markdown",
   "metadata": {
    "id": "z5J7Tp9zdJRX"
   },
   "source": [
    "Придумаем этой же переменной имя получше:"
   ]
  },
  {
   "cell_type": "code",
   "execution_count": null,
   "metadata": {
    "id": "BEX_9XJFdYXW"
   },
   "outputs": [],
   "source": [
    "bot_admin = 'Эльвин Сахаватович'"
   ]
  },
  {
   "cell_type": "markdown",
   "metadata": {
    "id": "p08_-ZBxdjQ9"
   },
   "source": [
    "В Python заглавные буквы используются для имён классов.\n",
    "\n",
    "Например, переменная `UserFatherName` ниже __не подходит__ для переменной строки:"
   ]
  },
  {
   "cell_type": "code",
   "execution_count": null,
   "metadata": {
    "id": "x1nFxTHyCeiS"
   },
   "outputs": [],
   "source": [
    "UserFatherName = 'Алексеевич'"
   ]
  },
  {
   "cell_type": "markdown",
   "metadata": {
    "id": "cAVAI5RueZoy"
   },
   "source": [
    "Лучше использовать для строки строчные буквы с нижними подчёркиваниями:"
   ]
  },
  {
   "cell_type": "code",
   "execution_count": null,
   "metadata": {
    "id": "oIhdmpX4CrEs"
   },
   "outputs": [],
   "source": [
    "user_father_name = 'Юрьевич'"
   ]
  },
  {
   "cell_type": "markdown",
   "metadata": {
    "id": "uiJ1vlhrCvI6"
   },
   "source": [
    "Переменная содержит **ссылку на значение**. Поэтому в переменной легко изменить как значение, так и тип: изменится лишь ссылка, которая ведёт на объект"
   ]
  },
  {
   "cell_type": "code",
   "execution_count": 3,
   "metadata": {
    "id": "HKV6Up2xejJI"
   },
   "outputs": [],
   "source": [
    "name = 'Yura'"
   ]
  },
  {
   "cell_type": "code",
   "execution_count": 4,
   "metadata": {
    "id": "iGrywhkHER7q"
   },
   "outputs": [],
   "source": [
    "name = 'Alex'"
   ]
  },
  {
   "cell_type": "code",
   "execution_count": 5,
   "metadata": {
    "id": "geoEIkVfEYtq"
   },
   "outputs": [],
   "source": [
    "name = 17"
   ]
  },
  {
   "cell_type": "code",
   "execution_count": 6,
   "metadata": {
    "id": "naDGqR1pEaCL"
   },
   "outputs": [],
   "source": [
    "name = [1, 7, 10, 15]"
   ]
  },
  {
   "cell_type": "markdown",
   "metadata": {
    "id": "yIGEXTpfC74L"
   },
   "source": [
    "Попробуем проверить нашу переменную `name`:"
   ]
  },
  {
   "cell_type": "code",
   "execution_count": 7,
   "metadata": {
    "colab": {
     "base_uri": "https://localhost:8080/"
    },
    "id": "ZVhW2E7NEcI6",
    "outputId": "642a8c24-5e33-446b-e9f1-8faf5d31f4a0"
   },
   "outputs": [
    {
     "name": "stdout",
     "output_type": "stream",
     "text": [
      "[1, 7, 10, 15]\n"
     ]
    }
   ],
   "source": [
    "print(name)"
   ]
  },
  {
   "cell_type": "markdown",
   "metadata": {
    "id": "fNrvdYzfC_2M"
   },
   "source": [
    "# Вывод переменной и форматирование строк"
   ]
  },
  {
   "cell_type": "code",
   "execution_count": 8,
   "metadata": {
    "id": "AaGXqjuBE-9B"
   },
   "outputs": [],
   "source": [
    "variable = \"Yura Mayer\""
   ]
  },
  {
   "cell_type": "markdown",
   "metadata": {
    "id": "udRtGln6DFxD"
   },
   "source": [
    "Для вывода с помощью функции `print()` достаточно перечислить переменную через запятую со строками: "
   ]
  },
  {
   "cell_type": "code",
   "execution_count": 9,
   "metadata": {
    "colab": {
     "base_uri": "https://localhost:8080/"
    },
    "id": "sYBm2mQrFGhq",
    "outputId": "4ad19d27-f511-4a90-eead-384f718c368d"
   },
   "outputs": [
    {
     "name": "stdout",
     "output_type": "stream",
     "text": [
      "Значение переменной Yura Mayer вот так вот!\n"
     ]
    }
   ],
   "source": [
    "print(\"Значение переменной\", variable, \"вот так вот!\")"
   ]
  },
  {
   "cell_type": "markdown",
   "metadata": {
    "id": "GSCot2TTDSFL"
   },
   "source": [
    "### `f` - форматирование строк"
   ]
  },
  {
   "cell_type": "markdown",
   "metadata": {
    "id": "RDBLD-IODUNC"
   },
   "source": [
    "Отдельная задача - внедрение переменную в строку.\n",
    "\n",
    "Для этого мы пользуемся методом **`f`-строк**, при котором переменная заключается в **`{}`** фигурные скобки:"
   ]
  },
  {
   "cell_type": "code",
   "execution_count": 10,
   "metadata": {
    "colab": {
     "base_uri": "https://localhost:8080/"
    },
    "id": "agV3la1OGosR",
    "outputId": "de11b078-35f2-4a33-c2aa-cdd1ee12d2e1"
   },
   "outputs": [
    {
     "name": "stdout",
     "output_type": "stream",
     "text": [
      "Меня зовут Yura Mayer\n"
     ]
    }
   ],
   "source": [
    "print(f\"Меня зовут {variable}\")"
   ]
  },
  {
   "cell_type": "code",
   "execution_count": 11,
   "metadata": {
    "id": "DrMR3vs-HlBp"
   },
   "outputs": [],
   "source": [
    "my_var = 'Приветик,'"
   ]
  },
  {
   "cell_type": "code",
   "execution_count": 12,
   "metadata": {
    "id": "ovEHZqMTH90B"
   },
   "outputs": [],
   "source": [
    "name = 'Юра'"
   ]
  },
  {
   "cell_type": "markdown",
   "metadata": {
    "id": "lXn4tEdoDoNi"
   },
   "source": [
    "Таким образом можно объединять в одной строке под новым именем несколько переменных:"
   ]
  },
  {
   "cell_type": "code",
   "execution_count": 13,
   "metadata": {
    "id": "NgYFX3sBICwp"
   },
   "outputs": [],
   "source": [
    "txt = f\"{my_var} {name}\""
   ]
  },
  {
   "cell_type": "markdown",
   "metadata": {
    "id": "to00ZY94DwWT"
   },
   "source": [
    "### Объединение строк"
   ]
  },
  {
   "cell_type": "markdown",
   "metadata": {
    "id": "1AJoOJEfD14q"
   },
   "source": [
    "Для объединения строк подходит оператор сложения `+`. В результате строки объединяются без разделителей:"
   ]
  },
  {
   "cell_type": "code",
   "execution_count": 14,
   "metadata": {
    "id": "QFezdHffI3xb"
   },
   "outputs": [],
   "source": [
    "string_sum = 'Майер' + 'Юра'"
   ]
  },
  {
   "cell_type": "code",
   "execution_count": 15,
   "metadata": {
    "id": "kkv8rNUdLARi"
   },
   "outputs": [],
   "source": [
    "new_string = my_var + name"
   ]
  },
  {
   "cell_type": "code",
   "execution_count": 16,
   "metadata": {
    "colab": {
     "base_uri": "https://localhost:8080/",
     "height": 35
    },
    "id": "s9fQjQ_jLTLC",
    "outputId": "8f413c6d-e643-424e-c6af-9983f5c89c61"
   },
   "outputs": [
    {
     "data": {
      "application/vnd.google.colaboratory.intrinsic+json": {
       "type": "string"
      },
      "text/plain": [
       "'Приветик,Юра'"
      ]
     },
     "execution_count": 16,
     "metadata": {},
     "output_type": "execute_result"
    }
   ],
   "source": [
    "new_string"
   ]
  },
  {
   "cell_type": "code",
   "execution_count": 17,
   "metadata": {
    "id": "r-MorcqtLaJa"
   },
   "outputs": [],
   "source": [
    "another_var = 20 + 17"
   ]
  },
  {
   "cell_type": "markdown",
   "metadata": {
    "id": "4ABAQv7_GMgp"
   },
   "source": [
    "# Бот и переменные"
   ]
  },
  {
   "cell_type": "markdown",
   "metadata": {
    "id": "7H-g6maXGy_5"
   },
   "source": [
    "#### Первым делом установим нашу библиотеку `pyTelegramBotAPI`:"
   ]
  },
  {
   "cell_type": "code",
   "execution_count": 18,
   "metadata": {
    "colab": {
     "base_uri": "https://localhost:8080/"
    },
    "id": "5MFThYmeMllr",
    "outputId": "e51ad378-a881-4419-cf0f-4b08b7d31fc0"
   },
   "outputs": [
    {
     "name": "stdout",
     "output_type": "stream",
     "text": [
      "Looking in indexes: https://pypi.org/simple, https://us-python.pkg.dev/colab-wheels/public/simple/\n",
      "Collecting pyTelegramBotAPI\n",
      "  Downloading pyTelegramBotAPI-4.7.1.tar.gz (213 kB)\n",
      "\u001b[K     |████████████████████████████████| 213 kB 21.0 MB/s \n",
      "\u001b[?25hRequirement already satisfied: requests in /usr/local/lib/python3.7/dist-packages (from pyTelegramBotAPI) (2.23.0)\n",
      "Requirement already satisfied: urllib3!=1.25.0,!=1.25.1,<1.26,>=1.21.1 in /usr/local/lib/python3.7/dist-packages (from requests->pyTelegramBotAPI) (1.24.3)\n",
      "Requirement already satisfied: certifi>=2017.4.17 in /usr/local/lib/python3.7/dist-packages (from requests->pyTelegramBotAPI) (2022.9.24)\n",
      "Requirement already satisfied: idna<3,>=2.5 in /usr/local/lib/python3.7/dist-packages (from requests->pyTelegramBotAPI) (2.10)\n",
      "Requirement already satisfied: chardet<4,>=3.0.2 in /usr/local/lib/python3.7/dist-packages (from requests->pyTelegramBotAPI) (3.0.4)\n",
      "Building wheels for collected packages: pyTelegramBotAPI\n",
      "  Building wheel for pyTelegramBotAPI (setup.py) ... \u001b[?25l\u001b[?25hdone\n",
      "  Created wheel for pyTelegramBotAPI: filename=pyTelegramBotAPI-4.7.1-py3-none-any.whl size=196988 sha256=302352c10ea0819d443bb80f3abf4302c607dafbe842c637e2014fd373ae3030\n",
      "  Stored in directory: /root/.cache/pip/wheels/84/72/5f/8a7b3ca1ef1250002cf3bac48e0c72c5ee5c9596a5b1295dc1\n",
      "Successfully built pyTelegramBotAPI\n",
      "Installing collected packages: pyTelegramBotAPI\n",
      "Successfully installed pyTelegramBotAPI-4.7.1\n"
     ]
    }
   ],
   "source": [
    "pip install pyTelegramBotAPI"
   ]
  },
  {
   "cell_type": "markdown",
   "metadata": {
    "id": "3BEQ4CpJG4yY"
   },
   "source": [
    "#### Импортируем её с помощью команды `import`"
   ]
  },
  {
   "cell_type": "code",
   "execution_count": 21,
   "metadata": {
    "id": "gN3b7HF3NJdh"
   },
   "outputs": [],
   "source": [
    "import telebot"
   ]
  },
  {
   "cell_type": "markdown",
   "metadata": {
    "id": "73pd1lWLHAVg"
   },
   "source": [
    "#### Создадим переменную-строку `token`, дадим ей значение нашего API-ключа (полученного у [BotFather](https://t.me/botfather) при создании бота)"
   ]
  },
  {
   "cell_type": "code",
   "execution_count": 4,
   "metadata": {
    "id": "KeR9tl6ENv9C"
   },
   "outputs": [],
   "source": [
    "token = '' # ВАШ ТОКЕН от t.me/botfather"
   ]
  },
  {
   "cell_type": "markdown",
   "metadata": {
    "id": "9P0Dij2cHUyx"
   },
   "source": [
    "#### Создадим объект бота, передав ему переменную `token`:"
   ]
  },
  {
   "cell_type": "code",
   "execution_count": 23,
   "metadata": {
    "id": "ry71dx75NnDv"
   },
   "outputs": [],
   "source": [
    "bot = telebot.TeleBot(token, parse_mode=None)"
   ]
  },
  {
   "cell_type": "markdown",
   "metadata": {
    "id": "mTLXF4--HxOo"
   },
   "source": [
    "Также создадим переменную - строку `name` с вашим именем: "
   ]
  },
  {
   "cell_type": "code",
   "execution_count": 5,
   "metadata": {
    "id": "GAmopA8bQEzB"
   },
   "outputs": [],
   "source": [
    "name = '' # ВАШЕ ИМЯ"
   ]
  },
  {
   "cell_type": "markdown",
   "metadata": {
    "id": "cM-S9bwMHjcJ"
   },
   "source": [
    "#### На основе документации напишем первый хэндлер (строка 1) и функцию ответа на сообщение (строка 2-3)\n",
    "\n"
   ]
  },
  {
   "cell_type": "code",
   "execution_count": 25,
   "metadata": {
    "id": "YIJWmPX9O3Ly"
   },
   "outputs": [],
   "source": [
    "@bot.message_handler(commands=['start', 'help'])\n",
    "def bot_function(my_message):\n",
    "\tbot.reply_to(my_message, f\"Привет, {name}!\")"
   ]
  },
  {
   "cell_type": "markdown",
   "metadata": {
    "id": "HMR42xaxIHtI"
   },
   "source": [
    "#### Не забываем запустить _поллинг_ бота:"
   ]
  },
  {
   "cell_type": "code",
   "execution_count": 27,
   "metadata": {
    "colab": {
     "base_uri": "https://localhost:8080/"
    },
    "id": "76meJkO6Qn2S",
    "outputId": "af701760-8834-4c06-e65d-97fc5870e7ec"
   },
   "outputs": [
    {
     "name": "stderr",
     "output_type": "stream",
     "text": [
      "2022-11-02 16:16:56,604 (__init__.py:972 MainThread) ERROR - TeleBot: \"Break infinity polling\"\n",
      "ERROR:TeleBot:Break infinity polling\n"
     ]
    }
   ],
   "source": [
    "bot.infinity_polling()"
   ]
  },
  {
   "cell_type": "markdown",
   "metadata": {
    "id": "aMWxkY2DIayg"
   },
   "source": [
    "![photo_2022-11-02_19-16-48.jpg](data:image/jpeg;base64,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)"
   ]
  }
 ],
 "metadata": {
  "colab": {
   "collapsed_sections": [],
   "provenance": []
  },
  "kernelspec": {
   "display_name": "Python 3",
   "language": "python",
   "name": "python3"
  },
  "language_info": {
   "codemirror_mode": {
    "name": "ipython",
    "version": 3
   },
   "file_extension": ".py",
   "mimetype": "text/x-python",
   "name": "python",
   "nbconvert_exporter": "python",
   "pygments_lexer": "ipython3",
   "version": "3.8.8"
  }
 },
 "nbformat": 4,
 "nbformat_minor": 1
}
