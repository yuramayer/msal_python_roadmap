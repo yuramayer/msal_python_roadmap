{
 "cells": [
  {
   "cell_type": "markdown",
   "id": "0420f009",
   "metadata": {},
   "source": [
    "# Первое занятие"
   ]
  },
  {
   "cell_type": "markdown",
   "id": "938de74c",
   "metadata": {},
   "source": [
    "## Типы переменных"
   ]
  },
  {
   "cell_type": "markdown",
   "id": "383953bc",
   "metadata": {},
   "source": [
    "Любая переменная в Python представляет из себя **объект**. \n",
    "\n",
    "Рассмотрим основные типы объектов - тот конструктор лего, с помощью которого мы будем создавать наши проекты "
   ]
  },
  {
   "cell_type": "markdown",
   "id": "fd31d335",
   "metadata": {},
   "source": [
    "### Строки"
   ]
  },
  {
   "cell_type": "markdown",
   "id": "e02e9f9c",
   "metadata": {},
   "source": [
    "**Строка** задаётся в кавычках и представляет собой любую последовательность символов в заданной кодировке (включая эмодзи).\n",
    "\n",
    "Функция `str()` создаёт строку из другого объекта."
   ]
  },
  {
   "cell_type": "code",
   "execution_count": 23,
   "id": "f868dfab",
   "metadata": {},
   "outputs": [],
   "source": [
    "my_string = 'I am String и это здорово!'"
   ]
  },
  {
   "cell_type": "code",
   "execution_count": 25,
   "id": "06ca996c",
   "metadata": {},
   "outputs": [
    {
     "data": {
      "text/plain": [
       "'I am String и это здорово!'"
      ]
     },
     "execution_count": 25,
     "metadata": {},
     "output_type": "execute_result"
    }
   ],
   "source": [
    "my_string"
   ]
  },
  {
   "cell_type": "markdown",
   "id": "80383867",
   "metadata": {},
   "source": [
    "### Целые числа"
   ]
  },
  {
   "cell_type": "markdown",
   "id": "9e2d6739",
   "metadata": {},
   "source": [
    "**Целое число** задаётся цифрами и позволяет производить арифметические операции.\n",
    "\n",
    "Функция `int()` попробует преобразовать дробное число или строку из цифр в целое число."
   ]
  },
  {
   "cell_type": "code",
   "execution_count": 24,
   "id": "a6b04f7d",
   "metadata": {},
   "outputs": [],
   "source": [
    "my_integer = 17"
   ]
  },
  {
   "cell_type": "code",
   "execution_count": 26,
   "id": "86cce147",
   "metadata": {},
   "outputs": [
    {
     "data": {
      "text/plain": [
       "17"
      ]
     },
     "execution_count": 26,
     "metadata": {},
     "output_type": "execute_result"
    }
   ],
   "source": [
    "my_integer"
   ]
  },
  {
   "cell_type": "markdown",
   "id": "91453ef0",
   "metadata": {},
   "source": [
    "### Дробные числа"
   ]
  },
  {
   "cell_type": "markdown",
   "id": "0e74e7f4",
   "metadata": {},
   "source": [
    "**Дробные числа** задаются цифрами с точкой-разделителем между целой и дробной частью.\n",
    "\n",
    "Функция `float()` преобразует целое число или строку из цифр в дробное число."
   ]
  },
  {
   "cell_type": "code",
   "execution_count": 5,
   "id": "7bf2654c",
   "metadata": {},
   "outputs": [],
   "source": [
    "float_number = 0.01"
   ]
  },
  {
   "cell_type": "code",
   "execution_count": 27,
   "id": "51257b86",
   "metadata": {},
   "outputs": [
    {
     "data": {
      "text/plain": [
       "0.01"
      ]
     },
     "execution_count": 27,
     "metadata": {},
     "output_type": "execute_result"
    }
   ],
   "source": [
    "float_number"
   ]
  },
  {
   "cell_type": "markdown",
   "id": "d35e304f",
   "metadata": {},
   "source": [
    "### Логические утверждения"
   ]
  },
  {
   "cell_type": "markdown",
   "id": "d36b2c2d",
   "metadata": {},
   "source": [
    "**Логические утверждения** в Python - `True` и `False`. \n",
    "\n",
    "`True` означает, что условие верно. Напротив, `False` указывает, что утверждение неверно.\n",
    "\n",
    "Логические утверждения полезны в условных конструкциях `if` & `else`"
   ]
  },
  {
   "cell_type": "code",
   "execution_count": 12,
   "id": "806b752f",
   "metadata": {},
   "outputs": [],
   "source": [
    "my_bool = True"
   ]
  },
  {
   "cell_type": "markdown",
   "id": "5d679144",
   "metadata": {},
   "source": [
    "## Последовательности"
   ]
  },
  {
   "cell_type": "markdown",
   "id": "a1196ee0",
   "metadata": {},
   "source": [
    "**Последовательности** - объекты, состоящие из нескольких других объектов.\n",
    "\n",
    "Мы рассмотрим два типа классических последовательностей: изменяемые и неизменяемые."
   ]
  },
  {
   "cell_type": "markdown",
   "id": "dd534700",
   "metadata": {},
   "source": [
    "### Списки"
   ]
  },
  {
   "cell_type": "markdown",
   "id": "3280223b",
   "metadata": {},
   "source": [
    "**Списки** - изменяемые последовательности, к элементам которых можно обратиться по индексу.\n",
    "\n",
    "Индекс всегда начинается с `0` и заканчивается `длиной_объекта - 1` !"
   ]
  },
  {
   "cell_type": "code",
   "execution_count": 13,
   "id": "75ddcd0d",
   "metadata": {},
   "outputs": [],
   "source": [
    "my_list = [1, 2, 3, 'kek', True]"
   ]
  },
  {
   "cell_type": "code",
   "execution_count": 15,
   "id": "3dde6d9b",
   "metadata": {},
   "outputs": [
    {
     "data": {
      "text/plain": [
       "1"
      ]
     },
     "execution_count": 15,
     "metadata": {},
     "output_type": "execute_result"
    }
   ],
   "source": [
    "my_list[0]"
   ]
  },
  {
   "cell_type": "code",
   "execution_count": 20,
   "id": "6c4d4f0e",
   "metadata": {},
   "outputs": [
    {
     "data": {
      "text/plain": [
       "True"
      ]
     },
     "execution_count": 20,
     "metadata": {},
     "output_type": "execute_result"
    }
   ],
   "source": [
    "my_list[4]"
   ]
  },
  {
   "cell_type": "code",
   "execution_count": 21,
   "id": "aaaa34f7",
   "metadata": {},
   "outputs": [],
   "source": [
    "my_list.append('new_element')"
   ]
  },
  {
   "cell_type": "code",
   "execution_count": 22,
   "id": "76661eb5",
   "metadata": {},
   "outputs": [
    {
     "data": {
      "text/plain": [
       "[1, 2, 3, 'kek', True, 'new_element']"
      ]
     },
     "execution_count": 22,
     "metadata": {},
     "output_type": "execute_result"
    }
   ],
   "source": [
    "my_list"
   ]
  },
  {
   "cell_type": "markdown",
   "id": "e94ffccd",
   "metadata": {},
   "source": [
    "### Кортежи"
   ]
  },
  {
   "cell_type": "markdown",
   "id": "939f37c2",
   "metadata": {},
   "source": [
    "**Кортежи** - неизменяемые последовательности, к ним тоже можно обращаться по индексу."
   ]
  },
  {
   "cell_type": "code",
   "execution_count": 14,
   "id": "15506ab0",
   "metadata": {},
   "outputs": [],
   "source": [
    "my_tuple = (1, 3, 5, 10)"
   ]
  },
  {
   "cell_type": "code",
   "execution_count": 19,
   "id": "26d9f081",
   "metadata": {},
   "outputs": [
    {
     "data": {
      "text/plain": [
       "5"
      ]
     },
     "execution_count": 19,
     "metadata": {},
     "output_type": "execute_result"
    }
   ],
   "source": [
    "my_tuple[2]"
   ]
  },
  {
   "cell_type": "markdown",
   "id": "9850ed7d",
   "metadata": {},
   "source": [
    "## Функции"
   ]
  },
  {
   "cell_type": "markdown",
   "id": "2f6bb2af",
   "metadata": {},
   "source": [
    "**Функция** - независимый объект (элемент кода), принимающий аргументы и возвращающий значение.\n",
    "\n",
    "Функция всегда создаётся кодовым словом `def`, и возвращает результат с помощью кодового слова `return`."
   ]
  },
  {
   "cell_type": "code",
   "execution_count": 8,
   "id": "32501bc3",
   "metadata": {},
   "outputs": [],
   "source": [
    "def my_function():\n",
    "    return 'i am function'"
   ]
  },
  {
   "cell_type": "code",
   "execution_count": 9,
   "id": "dfe88fa7",
   "metadata": {},
   "outputs": [
    {
     "data": {
      "text/plain": [
       "'i am function'"
      ]
     },
     "execution_count": 9,
     "metadata": {},
     "output_type": "execute_result"
    }
   ],
   "source": [
    "my_function()"
   ]
  },
  {
   "cell_type": "code",
   "execution_count": 10,
   "id": "0fb2f644",
   "metadata": {},
   "outputs": [],
   "source": [
    "def square(variable):\n",
    "    return variable ** 2"
   ]
  },
  {
   "cell_type": "code",
   "execution_count": 11,
   "id": "c5c26809",
   "metadata": {},
   "outputs": [
    {
     "data": {
      "text/plain": [
       "4"
      ]
     },
     "execution_count": 11,
     "metadata": {},
     "output_type": "execute_result"
    }
   ],
   "source": [
    "square(2)"
   ]
  },
  {
   "cell_type": "markdown",
   "id": "08db0e1b",
   "metadata": {},
   "source": [
    "## Первый бот"
   ]
  },
  {
   "cell_type": "code",
   "execution_count": 13,
   "id": "c88c9e5e",
   "metadata": {},
   "outputs": [],
   "source": [
    "import telebot"
   ]
  },
  {
   "cell_type": "code",
   "execution_count": 1,
   "id": "7e94608c",
   "metadata": {},
   "outputs": [],
   "source": [
    "token = 'ТВОЙ_ТОКЕН' # получаем его у t.me/BotFather"
   ]
  },
  {
   "cell_type": "code",
   "execution_count": 15,
   "id": "7a25eaec",
   "metadata": {},
   "outputs": [],
   "source": [
    "bot = telebot.TeleBot(token)"
   ]
  },
  {
   "cell_type": "code",
   "execution_count": 16,
   "id": "469e7e7a",
   "metadata": {},
   "outputs": [],
   "source": [
    "@bot.message_handler(content_types=['text'])\n",
    "def repeat_messages(message):\n",
    "    bot.send_message(message.chat.id, message.text)"
   ]
  },
  {
   "cell_type": "code",
   "execution_count": 18,
   "id": "76b43ac6",
   "metadata": {},
   "outputs": [
    {
     "name": "stderr",
     "output_type": "stream",
     "text": [
      "2022-10-22 22:05:26,794 (__init__.py:972 MainThread) ERROR - TeleBot: \"Break infinity polling\"\n"
     ]
    }
   ],
   "source": [
    "bot.infinity_polling()"
   ]
  }
 ],
 "metadata": {
  "kernelspec": {
   "display_name": "Python 3",
   "language": "python",
   "name": "python3"
  },
  "language_info": {
   "codemirror_mode": {
    "name": "ipython",
    "version": 3
   },
   "file_extension": ".py",
   "mimetype": "text/x-python",
   "name": "python",
   "nbconvert_exporter": "python",
   "pygments_lexer": "ipython3",
   "version": "3.8.8"
  }
 },
 "nbformat": 4,
 "nbformat_minor": 5
}
